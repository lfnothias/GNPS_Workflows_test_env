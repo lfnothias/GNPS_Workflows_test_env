{
 "cells": [
  {
   "cell_type": "markdown",
   "id": "7350c5bd-c28f-47fa-ac3f-2430aa98c974",
   "metadata": {},
   "source": [
    "## FBMN Progenesis QI file converter\n",
    "\n",
    "*21 Octobre 2021 - LF Nothias*\n",
    "\n",
    "Use this notebook to convert your Progenesis QI files to a FBMN suitable format (MZmine like).\n",
    "This is a temporary solution until the fixes are incorporated into the next GNPS release.\n",
    "\n",
    "![](drag_drop_input_files.png)\n",
    "\n",
    "#### Step 1 - Make sure the navigation panel of the Jupyter lab environment is opened.\n",
    "\n",
    "#### Step 2 - Upload your files in the `output_files` folder (left panel, you can drag and drop the files)."
   ]
  },
  {
   "cell_type": "markdown",
   "id": "e39a50b4-9990-4f61-9fdb-a522cab837c5",
   "metadata": {},
   "source": [
    "#### Step 3 - Specify the name of your input files in the cell below and run the cell"
   ]
  },
  {
   "cell_type": "code",
   "execution_count": null,
   "id": "0f046f8c-e739-4626-848b-c1e35809cdcd",
   "metadata": {},
   "outputs": [],
   "source": [
    "input_csv= '210921_B1NegMSe_483features.csv'\n",
    "input_msp = '210921_B1NegMSe_483features.msp'"
   ]
  },
  {
   "cell_type": "markdown",
   "id": "7ae2a179-fa63-4aaa-945d-0583f31080bd",
   "metadata": {},
   "source": [
    "#### Step 4 - Run the cell below"
   ]
  },
  {
   "cell_type": "code",
   "execution_count": 4,
   "id": "8d29afea-f2c4-4529-865c-a524120e497f",
   "metadata": {},
   "outputs": [
    {
     "name": "stdout",
     "output_type": "stream",
     "text": [
      "Reading semicolon separated input file with comma decimal separator \n",
      " ===== Files convertion is complete. Check the output_files folder to retrieve the files ====\n",
      " ===== You can download those files with right-click and use them for FBMN on GNPS ======\n",
      " ===== IMPORTANT: for the FBMN job on GNPS, make sure to select \"MZmine\" as input file types ====\n"
     ]
    }
   ],
   "source": [
    "input_folder = 'reference_input_files/'\n",
    "output_folder = 'output_files/'\n",
    "\n",
    "import progenesis_formatter\n",
    "compound_to_scan_mapping = progenesis_formatter.convert_to_feature_csv(input_folder+input_csv,output_folder+input_csv[:-4]+'.txt')\n",
    "progenesis_formatter.convert_mgf(input_folder+input_msp, output_folder+input_csv[:-4]+'.mgf', compound_to_scan_mapping)\n",
    "print(' ===== Files convertion is complete. Check the output_files folder to retrieve the files ====')\n",
    "print(' ===== You can download those files with right-click and use them for FBMN on GNPS ======')\n",
    "print(' ===== IMPORTANT: for the FBMN job on GNPS, make sure to select \"MZmine\" as input file types ====')"
   ]
  },
  {
   "cell_type": "markdown",
   "id": "4adf50f4-a212-4a03-9b2a-b34df9ffbcdd",
   "metadata": {},
   "source": [
    "#### Step 5 - Completed - Download the files"
   ]
  },
  {
   "cell_type": "code",
   "execution_count": null,
   "id": "c4840f0d-aa63-4321-99b9-ac187870f32d",
   "metadata": {},
   "outputs": [],
   "source": []
  }
 ],
 "metadata": {
  "kernelspec": {
   "display_name": "Python 3 (ipykernel)",
   "language": "python",
   "name": "python3"
  },
  "language_info": {
   "codemirror_mode": {
    "name": "ipython",
    "version": 3
   },
   "file_extension": ".py",
   "mimetype": "text/x-python",
   "name": "python",
   "nbconvert_exporter": "python",
   "pygments_lexer": "ipython3",
   "version": "3.7.10"
  }
 },
 "nbformat": 4,
 "nbformat_minor": 5
}
