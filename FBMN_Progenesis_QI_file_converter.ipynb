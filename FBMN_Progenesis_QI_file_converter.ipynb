{
 "cells": [
  {
   "cell_type": "markdown",
   "id": "7350c5bd-c28f-47fa-ac3f-2430aa98c974",
   "metadata": {},
   "source": [
    "## FBMN Progenesis QI file converter\n",
    "\n",
    "21 Octobre 2021"
   ]
  },
  {
   "cell_type": "code",
   "execution_count": 3,
   "id": "13a161e1-5792-4e4b-af4d-d58d2c6df003",
   "metadata": {},
   "outputs": [],
   "source": [
    "import progenesis_formatter\n",
    "import pandas as pd\n",
    "from IPython.core.interactiveshell import InteractiveShell\n",
    "InteractiveShell.ast_node_interactivity = \"all\""
   ]
  },
  {
   "cell_type": "code",
   "execution_count": 17,
   "id": "8d29afea-f2c4-4529-865c-a524120e497f",
   "metadata": {},
   "outputs": [
    {
     "name": "stdout",
     "output_type": "stream",
     "text": [
      "Reading semicolon separated input file with comma decimal separator \n",
      " ===== Files convertion is complete. Check the output folder to retrieve the files ====\n",
      " ===== You can download those files and use them for FBMN ======\n",
      " ===== IMPORTANT: for the FBMN job, select \"MZmine\" as input file types ====\n"
     ]
    }
   ],
   "source": [
    "input_csv= '210921_B1NegMSe_483features.csv'\n",
    "input_msp = '210921_B1NegMSe_483features.msp'\n",
    "input_folder = 'reference_input_files/'\n",
    "output_folder = 'output_files/'\n",
    "compound_to_scan_mapping = progenesis_formatter.convert_to_feature_csv(input_folder+input_csv,output_folder+input_csv[:-4]+'.txt')\n",
    "progenesis_formatter.convert_mgf(input_folder+input_msp, output_folder+input_csv[:-4]+'.mgf', compound_to_scan_mapping)\n",
    "print(' ===== Files convertion is complete. Check the output folder to retrieve the files ====')\n",
    "print(' ===== You can download those files and use them for FBMN ======')\n",
    "print(' ===== IMPORTANT: for the FBMN job, select \"MZmine\" as input file types ====')"
   ]
  },
  {
   "cell_type": "code",
   "execution_count": null,
   "id": "8b238b63-4102-4352-8d51-6b902e647f26",
   "metadata": {},
   "outputs": [],
   "source": []
  }
 ],
 "metadata": {
  "kernelspec": {
   "display_name": "Python 3 (ipykernel)",
   "language": "python",
   "name": "python3"
  },
  "language_info": {
   "codemirror_mode": {
    "name": "ipython",
    "version": 3
   },
   "file_extension": ".py",
   "mimetype": "text/x-python",
   "name": "python",
   "nbconvert_exporter": "python",
   "pygments_lexer": "ipython3",
   "version": "3.7.10"
  }
 },
 "nbformat": 4,
 "nbformat_minor": 5
}
